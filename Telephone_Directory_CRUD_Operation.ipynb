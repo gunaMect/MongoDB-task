{
 "cells": [
  {
   "cell_type": "code",
   "execution_count": 1,
   "id": "821de36d",
   "metadata": {},
   "outputs": [],
   "source": [
    "from pymongo import MongoClient "
   ]
  },
  {
   "cell_type": "code",
   "execution_count": 2,
   "id": "4d589639",
   "metadata": {},
   "outputs": [],
   "source": [
    "client = MongoClient('localhost',27017)"
   ]
  },
  {
   "cell_type": "code",
   "execution_count": 3,
   "id": "9dd1701d",
   "metadata": {},
   "outputs": [
    {
     "data": {
      "text/plain": [
       "['Telephone_DB', 'admin', 'config', 'local', 'mydatabase']"
      ]
     },
     "execution_count": 3,
     "metadata": {},
     "output_type": "execute_result"
    }
   ],
   "source": [
    "client.list_database_names()"
   ]
  },
  {
   "cell_type": "code",
   "execution_count": 4,
   "id": "fc926600",
   "metadata": {},
   "outputs": [],
   "source": [
    "# Create a Telephone Directory Database\n",
    "db = client.Telephone_DB"
   ]
  },
  {
   "cell_type": "code",
   "execution_count": 5,
   "id": "d4400d30",
   "metadata": {},
   "outputs": [],
   "source": [
    "# Create a Telephone Collection\n",
    "col_telephone = db.col_telephone"
   ]
  },
  {
   "cell_type": "code",
   "execution_count": 6,
   "id": "fee05e1c",
   "metadata": {},
   "outputs": [
    {
     "data": {
      "text/plain": [
       "<pymongo.results.InsertOneResult at 0x7f6466459e40>"
      ]
     },
     "execution_count": 6,
     "metadata": {},
     "output_type": "execute_result"
    }
   ],
   "source": [
    "# insert_one record to the database\n",
    "col_telephone.insert_one({\"name\": \"person_1\", \"Phone\": 9039193139, \"Place\": \"CBE\"})"
   ]
  },
  {
   "cell_type": "code",
   "execution_count": 7,
   "id": "e2f16034",
   "metadata": {},
   "outputs": [
    {
     "name": "stdout",
     "output_type": "stream",
     "text": [
      "{'_id': ObjectId('63de06f689527078e3632593'), 'name': 'person_1', 'Phone': 9039193139, 'place': 'coimbatore'}\n",
      "{'_id': ObjectId('63de06f689527078e3632594'), 'name': 'aimee Zank', 'phone': '3216549870', 'place': 'chennai'}\n",
      "{'_id': ObjectId('63de06f689527078e3632595'), 'name': 'Aurelia Menendez', 'phone': '9876543210', 'place': 'trichy'}\n",
      "{'_id': ObjectId('63de06f689527078e3632596'), 'name': 'Corliss Zuk', 'phone': '3692581470', 'place': 'madurai'}\n",
      "{'_id': ObjectId('63de06f689527078e3632597'), 'name': 'Bao Ziglar', 'phone': '1472583690', 'place': 'bangalore'}\n",
      "{'_id': ObjectId('63de06f689527078e3632598'), 'name': 'Zachary Langlais', 'phone': '9516328740', 'place': 'villupuram'}\n",
      "{'_id': ObjectId('63de06f789527078e3632599'), 'name': 'person_2', 'Phone': 9039193139, 'place': 'chennai'}\n",
      "{'_id': ObjectId('63eb1fdcdb776126bd656615'), 'name': 'person_1', 'Phone': 9039193139, 'Place': 'CBE'}\n"
     ]
    }
   ],
   "source": [
    "for documents in col_telephone.find():\n",
    "    print(documents)"
   ]
  },
  {
   "cell_type": "code",
   "execution_count": 8,
   "id": "dd067868",
   "metadata": {},
   "outputs": [
    {
     "name": "stdout",
     "output_type": "stream",
     "text": [
      "{'_id': ObjectId('63de06f689527078e3632593'), 'name': 'person_1', 'Phone': 9039193139, 'place': 'coimbatore'}\n",
      "{'_id': ObjectId('63de06f689527078e3632594'), 'name': 'aimee Zank', 'phone': '3216549870', 'place': 'chennai'}\n",
      "{'_id': ObjectId('63de06f689527078e3632595'), 'name': 'Aurelia Menendez', 'phone': '9876543210', 'place': 'trichy'}\n",
      "{'_id': ObjectId('63de06f689527078e3632596'), 'name': 'Corliss Zuk', 'phone': '3692581470', 'place': 'madurai'}\n",
      "{'_id': ObjectId('63de06f689527078e3632597'), 'name': 'Bao Ziglar', 'phone': '1472583690', 'place': 'bangalore'}\n",
      "{'_id': ObjectId('63de06f689527078e3632598'), 'name': 'Zachary Langlais', 'phone': '9516328740', 'place': 'villupuram'}\n",
      "{'_id': ObjectId('63de06f789527078e3632599'), 'name': 'person_2', 'Phone': 9039193139, 'place': 'chennai'}\n",
      "{'_id': ObjectId('63eb1fdcdb776126bd656615'), 'name': 'person_1', 'Phone': 9039193139, 'Place': 'CBE'}\n",
      "{'_id': ObjectId('63eb1fdcdb776126bd656616'), 'name': 'aimee Zank', 'phone': '3216549870', 'place': 'chennai'}\n",
      "{'_id': ObjectId('63eb1fdcdb776126bd656617'), 'name': 'Aurelia Menendez', 'phone': '9876543210', 'place': 'trichy'}\n",
      "{'_id': ObjectId('63eb1fdcdb776126bd656618'), 'name': 'Corliss Zuk', 'phone': '3692581470', 'place': 'madurai'}\n",
      "{'_id': ObjectId('63eb1fdcdb776126bd656619'), 'name': 'Bao Ziglar', 'phone': '1472583690', 'place': 'bangalore'}\n",
      "{'_id': ObjectId('63eb1fdcdb776126bd65661a'), 'name': 'Zachary Langlais', 'phone': '9516328740', 'place': 'villupuram'}\n"
     ]
    }
   ],
   "source": [
    "# insert multiple records to the database\n",
    "#creating name,phone_number,place \n",
    "telephone_list = [\n",
    "    {\"name\":\"aimee Zank\",\"phone\":\"3216549870\",\"place\":\"chennai\"},\n",
    "    {\"name\":\"Aurelia Menendez\",\"phone\":\"9876543210\",\"place\":\"trichy\"},\n",
    "    {\"name\":\"Corliss Zuk\",\"phone\":\"3692581470\",\"place\":\"madurai\"},\n",
    "    {\"name\":\"Bao Ziglar\",\"phone\":\"1472583690\",\"place\":\"bangalore\"},\n",
    "    {\"name\":\"Zachary Langlais\",\"phone\":\"9516328740\",\"place\":\"villupuram\"}\n",
    "]\n",
    "\n",
    "#Insert the record into the collection\n",
    "col_telephone.insert_many(telephone_list)\n",
    "\n",
    "#Make a query to find records you just created\n",
    "for document in col_telephone.find():\n",
    "    print(document)"
   ]
  },
  {
   "cell_type": "code",
   "execution_count": 9,
   "id": "4a4a289d",
   "metadata": {},
   "outputs": [
    {
     "name": "stdout",
     "output_type": "stream",
     "text": [
      "{'_id': ObjectId('63de06f689527078e3632593'), 'name': 'person_1', 'Phone': 9039193139, 'place': 'coimbatore'}\n",
      "{'_id': ObjectId('63eb1fdcdb776126bd656615'), 'name': 'person_1', 'Phone': 9039193139, 'Place': 'CBE'}\n",
      "{'_id': ObjectId('63eb1fdcdb776126bd656615'), 'name': 'person_1', 'Phone': 9039193139, 'Place': 'CBE'}\n"
     ]
    }
   ],
   "source": [
    "#Make a query to find one record you just created\n",
    "person_1_filter = { \"name\" : \"person_1\" }\n",
    "for document in col_telephone.find(person_1_filter):\n",
    "    print(document)\n",
    "\n",
    "# Query using Place\n",
    "for document in col_telephone.find({\"Place\": \"CBE\"}):\n",
    "    print(document)"
   ]
  },
  {
   "cell_type": "code",
   "execution_count": 10,
   "id": "13a7df73",
   "metadata": {},
   "outputs": [
    {
     "data": {
      "text/plain": [
       "<pymongo.results.UpdateResult at 0x7f6466459450>"
      ]
     },
     "execution_count": 10,
     "metadata": {},
     "output_type": "execute_result"
    }
   ],
   "source": [
    "# Updating Place from CBE to coimbatore\n",
    "filter = { \"Place\": \"CBE\" }\n",
    " \n",
    "# Values to be updated.\n",
    "newvalues = { \"$set\": { \"Place\" : \"coimbatore\" } }\n",
    " \n",
    "# Using update_one() method for single updation.\n",
    "col_telephone.update_one(filter, newvalues)"
   ]
  },
  {
   "cell_type": "code",
   "execution_count": 11,
   "id": "ffee806c",
   "metadata": {},
   "outputs": [
    {
     "name": "stdout",
     "output_type": "stream",
     "text": [
      "{'_id': ObjectId('63de06f689527078e3632593'), 'name': 'person_1', 'Phone': 9039193139, 'place': 'coimbatore'}\n",
      "{'_id': ObjectId('63eb1fdcdb776126bd656615'), 'name': 'person_1', 'Phone': 9039193139, 'Place': 'coimbatore'}\n"
     ]
    }
   ],
   "source": [
    "#Make a query to find one record you just created\n",
    "for document in col_telephone.find({\"name\": \"person_1\"}):\n",
    "    print(document)"
   ]
  },
  {
   "cell_type": "code",
   "execution_count": 12,
   "id": "8a11d6d6",
   "metadata": {},
   "outputs": [
    {
     "name": "stdout",
     "output_type": "stream",
     "text": [
      "{'_id': ObjectId('63de06f689527078e3632594'), 'name': 'aimee Zank', 'phone': '3216549870', 'place': 'chennai'}\n",
      "{'_id': ObjectId('63de06f789527078e3632599'), 'name': 'person_2', 'Phone': 9039193139, 'place': 'chennai'}\n",
      "{'_id': ObjectId('63eb1fdcdb776126bd656616'), 'name': 'aimee Zank', 'phone': '3216549870', 'place': 'chennai'}\n"
     ]
    }
   ],
   "source": [
    "# Find places with chennai\n",
    "filter = { \"place\": \"chennai\" }\n",
    " \n",
    "for document in col_telephone.find(filter):\n",
    "    print (document)"
   ]
  },
  {
   "cell_type": "code",
   "execution_count": 13,
   "id": "6b9556bd",
   "metadata": {},
   "outputs": [
    {
     "name": "stdout",
     "output_type": "stream",
     "text": [
      "{'_id': ObjectId('63de06f689527078e3632593'), 'name': 'person_1', 'Phone': 9039193139, 'place': 'coimbatore'}\n",
      "{'_id': ObjectId('63de06f689527078e3632594'), 'name': 'aimee Zank', 'phone': '3216549870', 'place': 'chennai'}\n",
      "{'_id': ObjectId('63de06f689527078e3632595'), 'name': 'Aurelia Menendez', 'phone': '9876543210', 'place': 'trichy'}\n",
      "{'_id': ObjectId('63de06f689527078e3632596'), 'name': 'Corliss Zuk', 'phone': '3692581470', 'place': 'madurai'}\n",
      "{'_id': ObjectId('63de06f689527078e3632597'), 'name': 'Bao Ziglar', 'phone': '1472583690', 'place': 'bangalore'}\n",
      "{'_id': ObjectId('63de06f689527078e3632598'), 'name': 'Zachary Langlais', 'phone': '9516328740', 'place': 'villupuram'}\n",
      "{'_id': ObjectId('63de06f789527078e3632599'), 'name': 'person_2', 'Phone': 9039193139, 'place': 'chennai'}\n",
      "{'_id': ObjectId('63eb1fdcdb776126bd656615'), 'name': 'person_1', 'Phone': 9039193139, 'Place': 'coimbatore'}\n",
      "{'_id': ObjectId('63eb1fdcdb776126bd656616'), 'name': 'aimee Zank', 'phone': '3216549870', 'place': 'chennai'}\n",
      "{'_id': ObjectId('63eb1fdcdb776126bd656617'), 'name': 'Aurelia Menendez', 'phone': '9876543210', 'place': 'trichy'}\n",
      "{'_id': ObjectId('63eb1fdcdb776126bd656618'), 'name': 'Corliss Zuk', 'phone': '3692581470', 'place': 'madurai'}\n",
      "{'_id': ObjectId('63eb1fdcdb776126bd656619'), 'name': 'Bao Ziglar', 'phone': '1472583690', 'place': 'bangalore'}\n",
      "{'_id': ObjectId('63eb1fdcdb776126bd65661a'), 'name': 'Zachary Langlais', 'phone': '9516328740', 'place': 'villupuram'}\n"
     ]
    }
   ],
   "source": [
    "# print entire collections\n",
    "for document in col_telephone.find():\n",
    "    print (document)"
   ]
  },
  {
   "cell_type": "code",
   "execution_count": 14,
   "id": "fbcd717c",
   "metadata": {},
   "outputs": [
    {
     "name": "stdout",
     "output_type": "stream",
     "text": [
      "{'_id': ObjectId('63de06f689527078e3632593'), 'name': 'person_1', 'Phone': 9039193139, 'place': 'coimbatore'}\n"
     ]
    }
   ],
   "source": [
    "# Updating Place to place using \"rename\" operation\n",
    "query = {\"Place\": {\"$exists\": True}}\n",
    "\n",
    "# Specify the new key name\n",
    "new_key = {\"$rename\": {\"Place\": \"place\"}}\n",
    "\n",
    "# Update the document\n",
    "col_telephone.update_many(query, new_key)\n",
    "\n",
    "# Verify the update\n",
    "updated_document = col_telephone.find_one({\"place\": {\"$exists\": True}})\n",
    "print(updated_document)"
   ]
  },
  {
   "cell_type": "code",
   "execution_count": 15,
   "id": "2cfc6d40",
   "metadata": {},
   "outputs": [
    {
     "name": "stdout",
     "output_type": "stream",
     "text": [
      "{'_id': ObjectId('63de06f689527078e3632593'), 'name': 'person_1', 'Phone': 9039193139, 'place': 'coimbatore'}\n",
      "{'_id': ObjectId('63de06f689527078e3632594'), 'name': 'aimee Zank', 'phone': '3216549870', 'place': 'chennai'}\n",
      "{'_id': ObjectId('63de06f689527078e3632595'), 'name': 'Aurelia Menendez', 'phone': '9876543210', 'place': 'trichy'}\n",
      "{'_id': ObjectId('63de06f689527078e3632596'), 'name': 'Corliss Zuk', 'phone': '3692581470', 'place': 'madurai'}\n",
      "{'_id': ObjectId('63de06f689527078e3632597'), 'name': 'Bao Ziglar', 'phone': '1472583690', 'place': 'bangalore'}\n",
      "{'_id': ObjectId('63de06f689527078e3632598'), 'name': 'Zachary Langlais', 'phone': '9516328740', 'place': 'villupuram'}\n",
      "{'_id': ObjectId('63de06f789527078e3632599'), 'name': 'person_2', 'Phone': 9039193139, 'place': 'chennai'}\n",
      "{'_id': ObjectId('63eb1fdcdb776126bd656615'), 'name': 'person_1', 'Phone': 9039193139, 'place': 'coimbatore'}\n",
      "{'_id': ObjectId('63eb1fdcdb776126bd656616'), 'name': 'aimee Zank', 'phone': '3216549870', 'place': 'chennai'}\n",
      "{'_id': ObjectId('63eb1fdcdb776126bd656617'), 'name': 'Aurelia Menendez', 'phone': '9876543210', 'place': 'trichy'}\n",
      "{'_id': ObjectId('63eb1fdcdb776126bd656618'), 'name': 'Corliss Zuk', 'phone': '3692581470', 'place': 'madurai'}\n",
      "{'_id': ObjectId('63eb1fdcdb776126bd656619'), 'name': 'Bao Ziglar', 'phone': '1472583690', 'place': 'bangalore'}\n",
      "{'_id': ObjectId('63eb1fdcdb776126bd65661a'), 'name': 'Zachary Langlais', 'phone': '9516328740', 'place': 'villupuram'}\n"
     ]
    }
   ],
   "source": [
    "for document in col_telephone.find():\n",
    "    print (document)"
   ]
  },
  {
   "cell_type": "code",
   "execution_count": 16,
   "id": "6d166cce",
   "metadata": {},
   "outputs": [
    {
     "data": {
      "text/plain": [
       "<pymongo.results.InsertOneResult at 0x7f6454146bc0>"
      ]
     },
     "execution_count": 16,
     "metadata": {},
     "output_type": "execute_result"
    }
   ],
   "source": [
    "# insert_one record to the database\n",
    "person_2_filter = { \"name\" : \"person_2\" }\n",
    "col_telephone.insert_one({\"name\": \"person_2\", \"Phone\": 9039193139, \"place\": \"chennai\"})"
   ]
  },
  {
   "cell_type": "code",
   "execution_count": 17,
   "id": "ef353620",
   "metadata": {},
   "outputs": [
    {
     "name": "stdout",
     "output_type": "stream",
     "text": [
      "{'_id': ObjectId('63de06f789527078e3632599'), 'name': 'person_2', 'Phone': 9039193139, 'place': 'chennai'}\n",
      "{'_id': ObjectId('63eb1fdcdb776126bd65661b'), 'name': 'person_2', 'Phone': 9039193139, 'place': 'chennai'}\n"
     ]
    }
   ],
   "source": [
    "for document in col_telephone.find(person_2_filter):\n",
    "    print (document)"
   ]
  },
  {
   "cell_type": "code",
   "execution_count": 18,
   "id": "2ee52f75",
   "metadata": {},
   "outputs": [
    {
     "name": "stdout",
     "output_type": "stream",
     "text": [
      "{'_id': ObjectId('63de06f689527078e3632593'), 'name': 'person_1', 'Phone': 9039193139, 'place': 'coimbatore'}\n",
      "{'_id': ObjectId('63eb1fdcdb776126bd656615'), 'name': 'person_1', 'Phone': 9039193139, 'place': 'coimbatore'}\n",
      "{'_id': ObjectId('63de06f789527078e3632599'), 'name': 'person_2', 'Phone': 9039193139, 'place': 'chennai'}\n",
      "{'_id': ObjectId('63eb1fdcdb776126bd65661b'), 'name': 'person_2', 'Phone': 9039193139, 'place': 'chennai'}\n"
     ]
    }
   ],
   "source": [
    "for document in col_telephone.find(person_1_filter):\n",
    "    print (document)\n",
    "for document in col_telephone.find(person_2_filter):\n",
    "    print (document)"
   ]
  },
  {
   "cell_type": "code",
   "execution_count": 19,
   "id": "e34ebd07",
   "metadata": {},
   "outputs": [
    {
     "name": "stdout",
     "output_type": "stream",
     "text": [
      "{'_id': ObjectId('63de06f689527078e3632593'), 'name': 'person_1', 'Phone': 9039193139, 'place': 'coimbatore'}\n",
      "{'_id': ObjectId('63eb1fdcdb776126bd656615'), 'name': 'person_1', 'Phone': 9039193139, 'place': 'coimbatore'}\n"
     ]
    }
   ],
   "source": [
    "coimbatore_filter = { \"place\" : \"coimbatore\" }\n",
    "for document in col_telephone.find(coimbatore_filter):\n",
    "    print (document)"
   ]
  },
  {
   "cell_type": "code",
   "execution_count": 20,
   "id": "f8c110c2",
   "metadata": {},
   "outputs": [
    {
     "name": "stdout",
     "output_type": "stream",
     "text": [
      "{'_id': ObjectId('63de06f689527078e3632593'), 'name': 'person_1', 'Phone': 9039193139, 'place': 'coimbatore'}\n",
      "{'_id': ObjectId('63de06f689527078e3632594'), 'name': 'aimee Zank', 'phone': '3216549870', 'place': 'chennai'}\n",
      "{'_id': ObjectId('63de06f689527078e3632595'), 'name': 'Aurelia Menendez', 'phone': '9876543210', 'place': 'trichy'}\n",
      "{'_id': ObjectId('63de06f689527078e3632596'), 'name': 'Corliss Zuk', 'phone': '3692581470', 'place': 'madurai'}\n",
      "{'_id': ObjectId('63de06f689527078e3632597'), 'name': 'Bao Ziglar', 'phone': '1472583690', 'place': 'bangalore'}\n",
      "{'_id': ObjectId('63de06f689527078e3632598'), 'name': 'Zachary Langlais', 'phone': '9516328740', 'place': 'villupuram'}\n",
      "{'_id': ObjectId('63de06f789527078e3632599'), 'name': 'person_2', 'Phone': 9039193139, 'place': 'chennai'}\n",
      "{'_id': ObjectId('63eb1fdcdb776126bd656615'), 'name': 'person_1', 'Phone': 9039193139, 'place': 'coimbatore'}\n",
      "{'_id': ObjectId('63eb1fdcdb776126bd656616'), 'name': 'aimee Zank', 'phone': '3216549870', 'place': 'chennai'}\n",
      "{'_id': ObjectId('63eb1fdcdb776126bd656617'), 'name': 'Aurelia Menendez', 'phone': '9876543210', 'place': 'trichy'}\n",
      "{'_id': ObjectId('63eb1fdcdb776126bd656618'), 'name': 'Corliss Zuk', 'phone': '3692581470', 'place': 'madurai'}\n",
      "{'_id': ObjectId('63eb1fdcdb776126bd656619'), 'name': 'Bao Ziglar', 'phone': '1472583690', 'place': 'bangalore'}\n",
      "{'_id': ObjectId('63eb1fdcdb776126bd65661a'), 'name': 'Zachary Langlais', 'phone': '9516328740', 'place': 'villupuram'}\n",
      "{'_id': ObjectId('63eb1fdcdb776126bd65661b'), 'name': 'person_2', 'Phone': 9039193139, 'place': 'chennai'}\n"
     ]
    }
   ],
   "source": [
    "for document in col_telephone.find({}):\n",
    "    print (document)"
   ]
  },
  {
   "cell_type": "code",
   "execution_count": null,
   "id": "01d895f5",
   "metadata": {},
   "outputs": [],
   "source": []
  }
 ],
 "metadata": {
  "kernelspec": {
   "display_name": "Python 3 (ipykernel)",
   "language": "python",
   "name": "python3"
  },
  "language_info": {
   "codemirror_mode": {
    "name": "ipython",
    "version": 3
   },
   "file_extension": ".py",
   "mimetype": "text/x-python",
   "name": "python",
   "nbconvert_exporter": "python",
   "pygments_lexer": "ipython3",
   "version": "3.10.6"
  }
 },
 "nbformat": 4,
 "nbformat_minor": 5
}
